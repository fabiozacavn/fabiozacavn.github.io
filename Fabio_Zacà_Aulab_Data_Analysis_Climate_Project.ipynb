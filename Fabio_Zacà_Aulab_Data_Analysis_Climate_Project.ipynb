{
  "nbformat": 4,
  "nbformat_minor": 0,
  "metadata": {
    "colab": {
      "provenance": [],
      "authorship_tag": "ABX9TyOmCyO7B3PGxYniXLMZe2l+",
      "include_colab_link": true
    },
    "kernelspec": {
      "name": "python3",
      "display_name": "Python 3"
    },
    "language_info": {
      "name": "python"
    }
  },
  "cells": [
    {
      "cell_type": "markdown",
      "metadata": {
        "id": "view-in-github",
        "colab_type": "text"
      },
      "source": [
        "<a href=\"https://colab.research.google.com/github/fabiozacavn/fabiozacavn.github.io/blob/main/Fabio_Zac%C3%A0_Aulab_Data_Analysis_Climate_Project.ipynb\" target=\"_parent\"><img src=\"https://colab.research.google.com/assets/colab-badge.svg\" alt=\"Open In Colab\"/></a>"
      ]
    },
    {
      "cell_type": "markdown",
      "source": [
        "1) Importazione delle Librerie"
      ],
      "metadata": {
        "id": "ZwbNSB9EPzFh"
      }
    },
    {
      "cell_type": "code",
      "source": [
        "import numpy as np\n",
        "import pandas as pd\n",
        "import matplotlib.pyplot as plt\n",
        "\n",
        "plt.style.use('ggplot')  # Stile alternativo compatibile\n",
        "%matplotlib inline\n"
      ],
      "metadata": {
        "id": "fOk-6avgP4yJ"
      },
      "execution_count": 3,
      "outputs": []
    },
    {
      "cell_type": "code",
      "source": [
        "import pandas as pd\n",
        "\n",
        "# 1️⃣ Lista ufficiale dei Paesi UE\n",
        "EU_COUNTRIES = [\n",
        "    'Austria', 'Belgium', 'Bulgaria', 'Croatia', 'Cyprus', 'Czechia',\n",
        "    'Denmark', 'Estonia', 'Finland', 'France', 'Germany', 'Greece', 'Hungary',\n",
        "    'Ireland', 'Italy', 'Latvia', 'Lithuania', 'Luxembourg', 'Malta',\n",
        "    'Netherlands', 'Poland', 'Portugal', 'Romania', 'Slovakia', 'Slovenia',\n",
        "    'Spain', 'Sweden'\n",
        "]\n",
        "\n",
        "# 2️⃣ Funzione per caricare i dataset\n",
        "def load_datasets(file_dict):\n",
        "    \"\"\"\n",
        "    Carica più dataset CSV in un dizionario di DataFrame.\n",
        "    Restituisce un dizionario con i DataFrame.\n",
        "    \"\"\"\n",
        "    dataframes = {}\n",
        "    for name, file in file_dict.items():\n",
        "        try:\n",
        "            df = pd.read_csv(file)\n",
        "            dataframes[name] = df\n",
        "            print(f\"✅ Dataset '{name}' caricato correttamente.\")\n",
        "        except Exception as e:\n",
        "            print(f\"❌ Errore nel caricamento di '{name}': {e}\")\n",
        "    return dataframes\n",
        "\n",
        "# 3️⃣ Funzione per filtrare i soli paesi UE\n",
        "def filter_eu_countries(df):\n",
        "    \"\"\"\n",
        "    Restituisce solo i dati relativi ai paesi UE, con indice resettato.\n",
        "    \"\"\"\n",
        "    if 'Country' not in df.columns:\n",
        "        print(\"⚠️ Colonna 'Country' mancante!\")\n",
        "        return df\n",
        "    return df[df['Country'].isin(EU_COUNTRIES)].reset_index(drop=True)\n"
      ],
      "metadata": {
        "id": "ZybS8bUOQI1e"
      },
      "execution_count": 5,
      "outputs": []
    },
    {
      "cell_type": "code",
      "source": [
        "# Dizionario dei file che hai caricato\n",
        "file_dict = {\n",
        "    \"CH4\": \"CH4_Emissions.csv\",\n",
        "    \"CO2\": \"CO2_Emissions.csv\",\n",
        "    \"GHG\": \"GHG_Emissions.csv\",\n",
        "    \"N2O\": \"N2O_Emissions.csv\",\n",
        "    \"NOx\": \"NOx_Emissions.csv\",\n",
        "    \"SO2\": \"SO2_emissions.csv\"\n",
        "}\n",
        "\n",
        "# Carica tutti i DataFrame\n",
        "dataframes = load_datasets(file_dict)\n",
        "\n",
        "# Applica il filtro UE a ciascuno\n",
        "dataframes_ue = {name: filter_eu_countries(df) for name, df in dataframes.items()}\n"
      ],
      "metadata": {
        "colab": {
          "base_uri": "https://localhost:8080/"
        },
        "id": "VGnBbODiSz0k",
        "outputId": "abc39545-9701-4a55-e734-9d346f4d09aa"
      },
      "execution_count": 6,
      "outputs": [
        {
          "output_type": "stream",
          "name": "stdout",
          "text": [
            "✅ Dataset 'CH4' caricato correttamente.\n",
            "✅ Dataset 'CO2' caricato correttamente.\n",
            "✅ Dataset 'GHG' caricato correttamente.\n",
            "✅ Dataset 'N2O' caricato correttamente.\n",
            "✅ Dataset 'NOx' caricato correttamente.\n",
            "✅ Dataset 'SO2' caricato correttamente.\n"
          ]
        }
      ]
    },
    {
      "cell_type": "code",
      "source": [],
      "metadata": {
        "id": "sPZ2g3Y3T_xQ"
      },
      "execution_count": null,
      "outputs": []
    }
  ]
}