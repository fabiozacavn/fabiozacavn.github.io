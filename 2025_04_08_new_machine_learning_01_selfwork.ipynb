{
  "cells": [
    {
      "cell_type": "markdown",
      "metadata": {
        "id": "view-in-github",
        "colab_type": "text"
      },
      "source": [
        "<a href=\"https://colab.research.google.com/github/fabiozacavn/fabiozacavn.github.io/blob/main/2025_04_08_new_machine_learning_01_selfwork.ipynb\" target=\"_parent\"><img src=\"https://colab.research.google.com/assets/colab-badge.svg\" alt=\"Open In Colab\"/></a>"
      ]
    },
    {
      "cell_type": "markdown",
      "id": "18b1c23e",
      "metadata": {
        "id": "18b1c23e"
      },
      "source": [
        "# ML - 01 - Esercitazioni - Introduzione al ML e Preprocessing"
      ]
    },
    {
      "cell_type": "markdown",
      "id": "0ad57b50",
      "metadata": {
        "id": "0ad57b50"
      },
      "source": [
        "## Obiettivo\n",
        "Sviluppare familiarità con i concetti base del Machine Learning supervisionato e le principali tecniche di preprocessing dei dati, attraverso esercizi pratici e teorici."
      ]
    },
    {
      "cell_type": "markdown",
      "id": "62fb701d",
      "metadata": {
        "id": "62fb701d"
      },
      "source": [
        "## Parte 1 – Teoria e concetti base"
      ]
    },
    {
      "cell_type": "markdown",
      "id": "9d2f58f9",
      "metadata": {
        "id": "9d2f58f9"
      },
      "source": [
        "### 1. Domande a risposta aperta\n",
        "- Cos’è il Machine Learning? Qual è la differenza tra apprendimento supervisionato e non supervisionato?\n",
        "- Descrivi un esempio reale per ogni tipo di apprendimento.\n",
        "- Quali sono le fasi del ML workflow? Spiegale con un esempio."
      ]
    },
    {
      "cell_type": "markdown",
      "source": [
        "*Scrivi qui la tua risposta*"
      ],
      "metadata": {
        "id": "X9XthJHDc7QE"
      },
      "id": "X9XthJHDc7QE"
    },
    {
      "cell_type": "markdown",
      "source": [
        "Cos’è il Machine Learning? Qual è la differenza tra apprendimento supervisionato e non supervisionato?\n",
        "Machine Learning (ML) è un ambito dell’intelligenza artificiale che permette al computer di assorbire automaticamente dei dati e migliorare la propria performance senza avere esplicitamente un programma per ogni compito. L’algoritmo di ML costruisce modelli matematici a partire da dati, per fare o prendere decisioni.\n",
        "Processo supervisionato:\n",
        "•\tL’algoritmo impara da un dataset con delle etichette, gli input associati sono relativi agli output desiderati.\n",
        "•\tObiettivo: prevedere l’output per nuovi input.\n",
        "•\tEsempi: email spam vs. non spam.\n",
        "Processo non supervisionato:\n",
        "•\tL’algoritmo lavora su dati senza etichette, cercando di scoprirne la struttura.\n",
        "•\tObiettivo: identificare pattern, raggruppamenti.\n",
        "•\tEsempi: clustering di clienti in gruppi di comportamento simile.\n",
        "\n",
        "2. Esempio reale per ogni tipo di apprendimento.\n",
        "Apprendimento supervisionato – esempio reale:\n",
        "Un'app per la valutazione immobiliare che utilizza dati storici (metri quadri, zona, numero di stanze, ecc.) associati ai prezzi effettivi delle case vendute. Il modello impara e riesce a stimare il prezzo di nuove case.\n",
        "Apprendimento non supervisionato – esempio reale:\n",
        "Un’azienda di e-commerce analizza i dati di acquisto dei clienti per segmentarli in gruppi simili (es. utenti attivi, utenti occasionali, utenti ad alto valore) senza avere etichette predefinite, per effettuare del marketing mirato.\n",
        "________________________________________\n",
        "3. Quali sono le fasi del ML workflow? Spiegale con un esempio.\n",
        "Il Machine Learning workflow tipico prevede le seguenti fasi:\n",
        "1.\tRaccolta dei dati\n",
        "Esempio: raccogliere dati sulle vendite di vino (prezzo, volume, regione, punteggio sommelier, ecc.).\n",
        "2.\tPulizia e preprocessing dei dati\n",
        "Esempio: gestire valori mancanti, normalizzare i dati, codificare variabili categoriche (es. regione → one-hot encoding).\n",
        "3.\tSuddivisione del dataset\n",
        "Esempio: dividere i dati in training set e test set per valutare le performance su dati mai visti.\n",
        "4.\tScelta del modello e addestramento\n",
        "Esempio: scegliere un modello di regressione lineare e addestrarlo con i dati di training per predire il prezzo del vino.\n",
        "5.\tValutazione del modello\n",
        "Esempio: usare metriche come MAE (Mean Absolute Error) o R² per capire quanto il modello sia accurato sui dati di test.\n",
        "6.\tOttimizzazione e tuning degli iperparametri\n",
        "Esempio: regolare parametri come il learning rate o la profondità di un albero decisionale tramite tecniche come la grid search.\n",
        "7.\tDeploy del modello in produzione\n",
        "Esempio: integrare il modello nel sito web dell’enoteca per suggerire automaticamente il prezzo ottimale dei nuovi vini inseriti.\n"
      ],
      "metadata": {
        "id": "x_fi04cqMR5O"
      },
      "id": "x_fi04cqMR5O"
    },
    {
      "cell_type": "markdown",
      "id": "9b6270e0",
      "metadata": {
        "id": "9b6270e0"
      },
      "source": [
        "### 2. Scelta multipla\n",
        "Seleziona la risposta corretta:\n",
        "- **Quale dei seguenti è un algoritmo di regressione?**\n",
        "  - a) K-Means  \n",
        "  - b) Decision Tree  \n",
        "  - c) Linear Regression  \n",
        "  - d) SVM classificatore\n",
        "\n",
        "- **Il One-Hot Encoding è indicato per:**\n",
        "  - a) Variabili numeriche continue  \n",
        "  - b) Variabili categoriche ordinali  \n",
        "  - c) Variabili categoriche non ordinali  \n",
        "  - d) Variabili binarie"
      ]
    },
    {
      "cell_type": "markdown",
      "source": [
        "*Scrivi qui la tua risposta*"
      ],
      "metadata": {
        "id": "T5cnQhhqdBId"
      },
      "id": "T5cnQhhqdBId"
    },
    {
      "cell_type": "markdown",
      "source": [
        "Quale dei seguenti è un algoritmo di regressione?\n",
        "\n",
        "a) K-Means\n",
        "b) Decision Tree\n",
        "c) Linear Regression - risposta esatta\n",
        "d) SVM classificatore\n",
        "\n",
        "Il One-Hot Encoding è indicato per:\n",
        "\n",
        "a) Variabili numeriche continue\n",
        "b) Variabili categoriche ordinali\n",
        "c) Variabili categoriche non ordinali - risposta esatta\n",
        "d) Variabili binarie"
      ],
      "metadata": {
        "id": "ASpybWSYOJ1t"
      },
      "id": "ASpybWSYOJ1t"
    },
    {
      "cell_type": "markdown",
      "id": "2ee05fe4",
      "metadata": {
        "id": "2ee05fe4"
      },
      "source": [
        "## Parte 2 – Esercizi pratici su Colab"
      ]
    },
    {
      "cell_type": "markdown",
      "id": "2872e38e",
      "metadata": {
        "id": "2872e38e"
      },
      "source": [
        "### Notebook: Google Colab 01.01 - EDA.ipynb\n",
        "3. **Esplorazione del dataset**\n",
        "- Calcola il numero di valori mancanti per ogni colonna.\n",
        "- Visualizza le distribuzioni delle feature numeriche con un istogramma.\n",
        "- Cosa noti riguardo alla distribuzione delle variabili?"
      ]
    },
    {
      "cell_type": "code",
      "source": [
        "import pandas as pd\n",
        "import matplotlib.pyplot as plt\n",
        "\n",
        "# Caricamento del dataset (assicurati che il file sia nella stessa cartella di questo script)\n",
        "file_path = '2025-02-17-dataset-adult-census-income.csv'\n",
        "df = pd.read_csv(file_path)\n",
        "\n",
        "# Calcolo dei valori mancanti per ogni colonna\n",
        "missing_values = df.isnull().sum()\n",
        "print(\"Valori mancanti per colonna:\")\n",
        "print(missing_values)\n",
        "\n",
        "# Selezione delle feature numeriche\n",
        "numerical_features = df.select_dtypes(include=['int64', 'float64'])\n",
        "\n",
        "# Visualizzazione degli istogrammi per ogni feature numerica\n",
        "plt.figure(figsize=(15, 10))\n",
        "for i, column in enumerate(numerical_features.columns, 1):\n",
        "    plt.subplot(3, 3, i)\n",
        "    plt.hist(numerical_features[column], bins=30, edgecolor='k')\n",
        "    plt.title(column)\n",
        "    plt.tight_layout()\n",
        "\n",
        "plt.show()\n",
        "\n",
        "# (Opzionale) Statistiche descrittive\n",
        "print(\"\\nStatistiche descrittive delle feature numeriche:\")\n",
        "print(numerical_features.describe())\n"
      ],
      "metadata": {
        "id": "_P1z4RXkdOZW",
        "colab": {
          "base_uri": "https://localhost:8080/",
          "height": 1000
        },
        "outputId": "91ccd5a8-ce15-409d-a484-74c47681cda1"
      },
      "id": "_P1z4RXkdOZW",
      "execution_count": 2,
      "outputs": [
        {
          "output_type": "stream",
          "name": "stdout",
          "text": [
            "Valori mancanti per colonna:\n",
            "age               0\n",
            "workclass         0\n",
            "fnlwgt            0\n",
            "education         0\n",
            "education.num     0\n",
            "marital.status    0\n",
            "occupation        0\n",
            "relationship      0\n",
            "race              0\n",
            "sex               0\n",
            "capital.gain      0\n",
            "capital.loss      0\n",
            "hours.per.week    0\n",
            "native.country    0\n",
            "income            0\n",
            "dtype: int64\n"
          ]
        },
        {
          "output_type": "display_data",
          "data": {
            "text/plain": [
              "<Figure size 1500x1000 with 6 Axes>"
            ],
            "image/png": "[encoded data removed]"
          },
          "metadata": {}
        },
        {
          "output_type": "stream",
          "name": "stdout",
          "text": [
            "\n",
            "Statistiche descrittive delle feature numeriche:\n",
            "                age        fnlwgt  education.num  capital.gain  capital.loss  \\\n",
            "count  32561.000000  3.256100e+04   32561.000000  32561.000000  32561.000000   \n",
            "mean      38.581647  1.897784e+05      10.080679   1077.648844     87.303830   \n",
            "std       13.640433  1.055500e+05       2.572720   7385.292085    402.960219   \n",
            "min       17.000000  1.228500e+04       1.000000      0.000000      0.000000   \n",
            "25%       28.000000  1.178270e+05       9.000000      0.000000      0.000000   \n",
            "50%       37.000000  1.783560e+05      10.000000      0.000000      0.000000   \n",
            "75%       48.000000  2.370510e+05      12.000000      0.000000      0.000000   \n",
            "max       90.000000  1.484705e+06      16.000000  99999.000000   4356.000000   \n",
            "\n",
            "       hours.per.week  \n",
            "count    32561.000000  \n",
            "mean        40.437456  \n",
            "std         12.347429  \n",
            "min          1.000000  \n",
            "25%         40.000000  \n",
            "50%         40.000000  \n",
            "75%         45.000000  \n",
            "max         99.000000  \n"
          ]
        }
      ]
    },
    {
      "cell_type": "markdown",
      "source": [
        "*Scrivi qui la tua risposta*"
      ],
      "metadata": {
        "id": "9KKoXKemdjLS"
      },
      "id": "9KKoXKemdjLS"
    },
    {
      "cell_type": "markdown",
      "source": [
        "molte variabili presentano distribuzioni sbilanciate o con outlier (soprattutto capital.gain, capital.loss, fnlwgt). Sarà utile applicare tecniche di preprocessing come scaling, log-transformation o trimming per migliorare le prestazioni dei modelli ML."
      ],
      "metadata": {
        "id": "juPW2Lp8hJna"
      },
      "id": "juPW2Lp8hJna"
    },
    {
      "cell_type": "markdown",
      "id": "520b0414",
      "metadata": {
        "id": "520b0414"
      },
      "source": [
        "### Notebook: Google Colab 01.02 - Preprocessing.ipynb\n",
        "4. **Preprocessing - Base**\n",
        "- Esegui la normalizzazione (`StandardScaler`) su almeno due feature numeriche.\n",
        "- Applica One-Hot Encoding a una colonna categorica non ordinale.\n",
        "- Scrivi una funzione che gestisca i valori mancanti sostituendoli con la mediana."
      ]
    },
    {
      "cell_type": "code",
      "source": [
        "import pandas as pd\n",
        "import numpy as np\n",
        "from sklearn.preprocessing import StandardScaler, OneHotEncoder\n",
        "\n",
        "# Caricamento del dataset\n",
        "file_path = '2025-02-17-dataset-adult-census-income.csv'\n",
        "df = pd.read_csv(file_path)\n",
        "\n",
        "# Sostituzione dei valori \"?\" con np.nan\n",
        "df = df.replace(\"?\", np.nan)\n",
        "\n",
        "# ------------------------------\n",
        "# 1. Normalizzazione (StandardScaler)\n",
        "# ------------------------------\n",
        "\n",
        "scaler = StandardScaler()\n",
        "columns_to_scale = ['age', 'hours.per.week']\n",
        "\n",
        "# Applica lo scaling solo se le colonne esistono\n",
        "for col in columns_to_scale:\n",
        "    if col in df.columns:\n",
        "        df[[col]] = scaler.fit_transform(df[[col]])\n",
        "\n",
        "# ------------------------------\n",
        "# 2. One-Hot Encoding (workclass)\n",
        "# ------------------------------\n",
        "\n",
        "# Seleziona una colonna categorica non ordinale\n",
        "categorical_col = 'workclass'\n",
        "\n",
        "# Verifica se la colonna esiste e contiene valori validi\n",
        "if categorical_col in df.columns:\n",
        "    try:\n",
        "        ohe = OneHotEncoder(sparse_output=False, handle_unknown='ignore')  # sklearn >= 1.2\n",
        "    except TypeError:\n",
        "        ohe = OneHotEncoder(sparse=False, handle_unknown='ignore')         # sklearn < 1.2\n",
        "\n",
        "    encoded = ohe.fit_transform(df[[categorical_col]])\n",
        "    encoded_df = pd.DataFrame(encoded, columns=ohe.get_feature_names_out([categorical_col]))\n",
        "    encoded_df.index = df.index  # mantieni l'indice\n",
        "\n",
        "    # Unisci i nuovi dati e rimuovi la colonna originale\n",
        "    df = pd.concat([df.drop(columns=[categorical_col]), encoded_df], axis=1)\n",
        "\n",
        "# ------------------------------\n",
        "# 3. Funzione per riempire i NaN con la mediana\n",
        "# ------------------------------\n",
        "\n",
        "def fill_missing_with_median(dataframe):\n",
        "    for col in dataframe.columns:\n",
        "        if dataframe[col].dtype in ['int64', 'float64']:\n",
        "            if dataframe[col].isnull().sum() > 0:\n",
        "                median_val = dataframe[col].median()\n",
        "                dataframe[col].fillna(median_val, inplace=True)\n",
        "    return dataframe\n",
        "\n",
        "# Applica la funzione\n",
        "df = fill_missing_with_median(df)\n",
        "\n",
        "# (Facoltativo) Controlla se ci sono ancora NaN\n",
        "print(\"Valori mancanti dopo il preprocessing:\")\n",
        "print(df.isnull().sum())\n"
      ],
      "metadata": {
        "id": "SGmGEJCwdRFB",
        "colab": {
          "base_uri": "https://localhost:8080/"
        },
        "outputId": "93d2ed04-1611-4292-ddef-c123c1131867"
      },
      "id": "SGmGEJCwdRFB",
      "execution_count": 5,
      "outputs": [
        {
          "output_type": "stream",
          "name": "stdout",
          "text": [
            "Valori mancanti dopo il preprocessing:\n",
            "age                              0\n",
            "fnlwgt                           0\n",
            "education                        0\n",
            "education.num                    0\n",
            "marital.status                   0\n",
            "occupation                    1843\n",
            "relationship                     0\n",
            "race                             0\n",
            "sex                              0\n",
            "capital.gain                     0\n",
            "capital.loss                     0\n",
            "hours.per.week                   0\n",
            "native.country                 583\n",
            "income                           0\n",
            "workclass_Federal-gov            0\n",
            "workclass_Local-gov              0\n",
            "workclass_Never-worked           0\n",
            "workclass_Private                0\n",
            "workclass_Self-emp-inc           0\n",
            "workclass_Self-emp-not-inc       0\n",
            "workclass_State-gov              0\n",
            "workclass_Without-pay            0\n",
            "workclass_nan                    0\n",
            "dtype: int64\n"
          ]
        }
      ]
    },
    {
      "cell_type": "markdown",
      "id": "54c45c8b",
      "metadata": {
        "id": "54c45c8b"
      },
      "source": [
        "### Notebook: Google Colab 01.03 - Preprocessing Modular.ipynb\n",
        "5. **Modularizzazione**\n",
        "- Osserva la struttura del notebook. Come vengono modularizzate le funzioni?\n",
        "- Estendi una funzione già esistente per includere anche lo `OrdinalEncoder` su una feature a tua scelta.\n",
        "- Quali sono i vantaggi di avere il preprocessing in funzioni riutilizzabili?"
      ]
    },
    {
      "cell_type": "code",
      "source": [
        "\n",
        "from sklearn.preprocessing import OrdinalEncoder\n",
        "\n",
        "def preprocess_dataframe(df):\n",
        "    \"\"\"\n",
        "    Esegue:\n",
        "    - Riempimento dei valori numerici NaN con la mediana\n",
        "    - Ordinal Encoding sulla colonna 'education' se presente\n",
        "    \"\"\"\n",
        "    # 1. Sostituzione dei valori numerici mancanti con la mediana\n",
        "    for col in df.columns:\n",
        "        if df[col].dtype in ['int64', 'float64']:\n",
        "            if df[col].isnull().sum() > 0:\n",
        "                df[col].fillna(df[col].median(), inplace=True)\n",
        "\n",
        "    # 2. Ordinal Encoding su 'education' (solo se presente)\n",
        "    if 'education' in df.columns:\n",
        "        education_order = [\n",
        "            'Preschool', '1st-4th', '5th-6th', '7th-8th', '9th',\n",
        "            '10th', '11th', '12th', 'HS-grad', 'Some-college',\n",
        "            'Assoc-voc', 'Assoc-acdm', 'Bachelors', 'Masters',\n",
        "            'Prof-school', 'Doctorate'\n",
        "        ]\n",
        "        encoder = OrdinalEncoder(categories=[education_order])\n",
        "        df[['education']] = encoder.fit_transform(df[['education']])\n",
        "\n",
        "    return df\n"
      ],
      "metadata": {
        "id": "wxo73JsidSjl"
      },
      "id": "wxo73JsidSjl",
      "execution_count": 7,
      "outputs": []
    },
    {
      "cell_type": "markdown",
      "source": [
        "*Scrivi qui la tua risposta*"
      ],
      "metadata": {
        "id": "sMR6d33zdndY"
      },
      "id": "sMR6d33zdndY"
    },
    {
      "cell_type": "markdown",
      "source": [
        "3. Vantaggi della modularizzazione del preprocessing\n",
        "Avere funzioni riutilizzabili per il preprocessing offre diversi vantaggi:\n",
        "Vantaggio\tDescrizione\n",
        "Riutilizzabilità\tSi possono riapplicare le stesse funzioni su più dataset o pipeline.\n",
        "Mantenibilità\tSe cambia la logica (es. si vuole usare la media invece della mediana), basta modificarla in un punto.\n",
        "Chiarezza e ordine\tIl codice è diviso in blocchi con responsabilità specifiche.\n",
        "Testabilità\tOgni funzione può essere testata singolarmente.\n",
        "Scalabilità\tSi possono facilmente combinare più trasformazioni in pipeline complesse.\n"
      ],
      "metadata": {
        "id": "gAX3_ZAkmDmm"
      },
      "id": "gAX3_ZAkmDmm"
    },
    {
      "cell_type": "markdown",
      "id": "be3ae12e",
      "metadata": {
        "id": "be3ae12e"
      },
      "source": [
        "## Parte 3 – Riflessione finale"
      ]
    },
    {
      "cell_type": "markdown",
      "id": "3d50a799",
      "metadata": {
        "id": "3d50a799"
      },
      "source": [
        "6. **Discussione (scritta)**\n",
        "- Perché è importante il preprocessing? Dai due esempi in cui il preprocessing ha un impatto significativo.\n",
        "- Spiega cosa può succedere se non separi correttamente train e test set."
      ]
    },
    {
      "cell_type": "markdown",
      "source": [
        "Perché è importante il preprocessing?\n",
        "Il preprocessing è una fase fondamentale del Machine Learning perché prepara i dati grezzi per l’addestramento del modello. Dati reali spesso contengono:\n",
        "valori mancanti,\n",
        "formati inconsistenti,\n",
        "variabili non numeriche,\n",
        "scale differenti tra le feature.\n",
        "Senza un preprocessing adeguato, anche i modelli più avanzati possono produrre risultati scadenti o non funzionare affatto.\n",
        "Due esempi in cui il preprocessing ha un impatto significativo\n",
        "Esempio 1 – Scaling delle feature per modelli sensibili alla distanza\n",
        "Algoritmi come K-NN, SVM o regressione logistica sono sensibili alla scala delle variabili.\n",
        "Se una feature come “reddito” ha valori tra 10.000 e 100.000, mentre “età” va da 18 a 90, il modello darà molta più importanza al reddito, anche se non è la feature più rilevante.\n",
        "Soluzione: StandardScaler o MinMaxScaler per uniformare le scale.\n",
        "Esempio 2 – One-Hot Encoding su variabili categoriche\n",
        "Molti modelli (es. alberi decisionali esclusi) non gestiscono direttamente stringhe o valori categorici.\n",
        "Se lasci una colonna come \"workclass\" in formato testuale, il modello andrà in errore o non riuscirà a interpretarla.\n",
        "Soluzione: applicare One-Hot Encoding o Ordinal Encoding, a seconda del tipo di categoria.\n",
        "Cosa può succedere se non separi correttamente train e test set?\n",
        "Se non separi correttamente i dati di addestramento (train) e valutazione (test), rischi di introdurre data leakage:\n",
        "Il modello impara informazioni che non dovrebbe conoscere.\n",
        "Le prestazioni sembrano molto migliori di quanto siano nella realtà.\n",
        "In produzione il modello fallisce, perché si trova davanti a dati davvero \"nuovi\".\n",
        "Esempio tipico: normalizzare o imputare i dati prima dello split.\n",
        "In questo modo, i valori statistici del test set influenzano la trasformazione del train set → invalidano il modello.\n",
        "________________________________________\n",
        "Conclusione\n",
        "Un buon preprocessing:\n",
        "migliora le prestazioni,\n",
        "aumenta la robustezza del modello,\n",
        "previene errori nascosti (come il leakage).\n",
        "Separare correttamente train/test e applicare le trasformazioni solo dopo lo split è una buona pratica fondamentale nel Machine Learning.\n"
      ],
      "metadata": {
        "id": "y79_m5q3n7J0"
      },
      "id": "y79_m5q3n7J0"
    },
    {
      "cell_type": "markdown",
      "source": [
        "*Scrivi qui la tua risposta*"
      ],
      "metadata": {
        "id": "zuVJHJZvdJ80"
      },
      "id": "zuVJHJZvdJ80"
    }
  ],
  "metadata": {
    "colab": {
      "provenance": [],
      "include_colab_link": true
    },
    "language_info": {
      "name": "python"
    },
    "kernelspec": {
      "name": "python3",
      "display_name": "Python 3"
    }
  },
  "nbformat": 4,
  "nbformat_minor": 5
}